{
 "cells": [
  {
   "cell_type": "markdown",
   "id": "6ceef2c1-ba85-44eb-8c0c-4ae5cc45d310",
   "metadata": {},
   "source": [
    "# import python libraries"
   ]
  },
  {
   "cell_type": "code",
   "execution_count": 16,
   "id": "df84fd63-ed79-411e-98d9-dc3a3a792318",
   "metadata": {},
   "outputs": [],
   "source": [
    "import pandas as pd\n",
    "import matplotlib.pyplot as plt\n",
    "import seaborn as sns"
   ]
  },
  {
   "cell_type": "code",
   "execution_count": 72,
   "id": "53100d27-f60f-4908-af0e-40302db90758",
   "metadata": {},
   "outputs": [],
   "source": [
    "df = pd.read_csv(\"Football-Scenarios-DFE-832307.csv\",)"
   ]
  },
  {
   "cell_type": "code",
   "execution_count": 74,
   "id": "64199d8b-9375-41f4-947c-bab9b01309e5",
   "metadata": {},
   "outputs": [
    {
     "data": {
      "text/html": [
       "<div>\n",
       "<style scoped>\n",
       "    .dataframe tbody tr th:only-of-type {\n",
       "        vertical-align: middle;\n",
       "    }\n",
       "\n",
       "    .dataframe tbody tr th {\n",
       "        vertical-align: top;\n",
       "    }\n",
       "\n",
       "    .dataframe thead th {\n",
       "        text-align: right;\n",
       "    }\n",
       "</style>\n",
       "<table border=\"1\" class=\"dataframe\">\n",
       "  <thead>\n",
       "    <tr style=\"text-align: right;\">\n",
       "      <th></th>\n",
       "      <th>_unit_id</th>\n",
       "      <th>_golden</th>\n",
       "      <th>_unit_state</th>\n",
       "      <th>_trusted_judgments</th>\n",
       "      <th>_last_judgment_at</th>\n",
       "      <th>antecedent</th>\n",
       "      <th>antecedent:confidence</th>\n",
       "      <th>orig_antecedent</th>\n",
       "      <th>antecedent_gold</th>\n",
       "      <th>option1</th>\n",
       "      <th>option2</th>\n",
       "      <th>option3</th>\n",
       "      <th>option4</th>\n",
       "      <th>option5</th>\n",
       "    </tr>\n",
       "  </thead>\n",
       "  <tbody>\n",
       "    <tr>\n",
       "      <th>0</th>\n",
       "      <td>831005673</td>\n",
       "      <td>False</td>\n",
       "      <td>finalized</td>\n",
       "      <td>5</td>\n",
       "      <td>11/20/15 20:20</td>\n",
       "      <td>kick a field goal</td>\n",
       "      <td>0.8092</td>\n",
       "      <td>It is first down and 10. The ball is on your o...</td>\n",
       "      <td>NaN</td>\n",
       "      <td>punt</td>\n",
       "      <td>kick a field goal</td>\n",
       "      <td>run</td>\n",
       "      <td>pass</td>\n",
       "      <td>kneel down</td>\n",
       "    </tr>\n",
       "    <tr>\n",
       "      <th>1</th>\n",
       "      <td>831005674</td>\n",
       "      <td>False</td>\n",
       "      <td>finalized</td>\n",
       "      <td>5</td>\n",
       "      <td>11/18/15 21:59</td>\n",
       "      <td>kick a field goal</td>\n",
       "      <td>1.0000</td>\n",
       "      <td>It is second down and inches. The ball is on y...</td>\n",
       "      <td>NaN</td>\n",
       "      <td>punt</td>\n",
       "      <td>kick a field goal</td>\n",
       "      <td>run</td>\n",
       "      <td>pass</td>\n",
       "      <td>kneel down</td>\n",
       "    </tr>\n",
       "    <tr>\n",
       "      <th>2</th>\n",
       "      <td>831005675</td>\n",
       "      <td>False</td>\n",
       "      <td>finalized</td>\n",
       "      <td>5</td>\n",
       "      <td>11/20/15 22:43</td>\n",
       "      <td>kick a field goal</td>\n",
       "      <td>0.6211</td>\n",
       "      <td>It is second down and inches. The ball is on y...</td>\n",
       "      <td>NaN</td>\n",
       "      <td>punt</td>\n",
       "      <td>kick a field goal</td>\n",
       "      <td>run</td>\n",
       "      <td>pass</td>\n",
       "      <td>kneel down</td>\n",
       "    </tr>\n",
       "    <tr>\n",
       "      <th>3</th>\n",
       "      <td>831005676</td>\n",
       "      <td>False</td>\n",
       "      <td>finalized</td>\n",
       "      <td>5</td>\n",
       "      <td>11/19/15 7:41</td>\n",
       "      <td>kick a field goal</td>\n",
       "      <td>0.8073</td>\n",
       "      <td>It is second down and inches. The ball is on y...</td>\n",
       "      <td>NaN</td>\n",
       "      <td>punt</td>\n",
       "      <td>kick a field goal</td>\n",
       "      <td>run</td>\n",
       "      <td>pass</td>\n",
       "      <td>kneel down</td>\n",
       "    </tr>\n",
       "    <tr>\n",
       "      <th>4</th>\n",
       "      <td>831005677</td>\n",
       "      <td>False</td>\n",
       "      <td>finalized</td>\n",
       "      <td>5</td>\n",
       "      <td>11/21/15 8:01</td>\n",
       "      <td>kick a field goal</td>\n",
       "      <td>1.0000</td>\n",
       "      <td>It is second down and inches. The ball is on y...</td>\n",
       "      <td>NaN</td>\n",
       "      <td>punt</td>\n",
       "      <td>kick a field goal</td>\n",
       "      <td>run</td>\n",
       "      <td>pass</td>\n",
       "      <td>kneel down</td>\n",
       "    </tr>\n",
       "  </tbody>\n",
       "</table>\n",
       "</div>"
      ],
      "text/plain": [
       "    _unit_id  _golden _unit_state  _trusted_judgments _last_judgment_at  \\\n",
       "0  831005673    False   finalized                   5    11/20/15 20:20   \n",
       "1  831005674    False   finalized                   5    11/18/15 21:59   \n",
       "2  831005675    False   finalized                   5    11/20/15 22:43   \n",
       "3  831005676    False   finalized                   5     11/19/15 7:41   \n",
       "4  831005677    False   finalized                   5     11/21/15 8:01   \n",
       "\n",
       "          antecedent  antecedent:confidence  \\\n",
       "0  kick a field goal                 0.8092   \n",
       "1  kick a field goal                 1.0000   \n",
       "2  kick a field goal                 0.6211   \n",
       "3  kick a field goal                 0.8073   \n",
       "4  kick a field goal                 1.0000   \n",
       "\n",
       "                                     orig_antecedent antecedent_gold option1  \\\n",
       "0  It is first down and 10. The ball is on your o...             NaN    punt   \n",
       "1  It is second down and inches. The ball is on y...             NaN    punt   \n",
       "2  It is second down and inches. The ball is on y...             NaN    punt   \n",
       "3  It is second down and inches. The ball is on y...             NaN    punt   \n",
       "4  It is second down and inches. The ball is on y...             NaN    punt   \n",
       "\n",
       "              option2 option3 option4      option5  \n",
       "0   kick a field goal     run    pass   kneel down  \n",
       "1   kick a field goal     run    pass   kneel down  \n",
       "2   kick a field goal     run    pass   kneel down  \n",
       "3   kick a field goal     run    pass   kneel down  \n",
       "4   kick a field goal     run    pass   kneel down  "
      ]
     },
     "execution_count": 74,
     "metadata": {},
     "output_type": "execute_result"
    }
   ],
   "source": [
    "df.head()"
   ]
  },
  {
   "cell_type": "markdown",
   "id": "4a151e27-f453-41d2-8f8a-6ed9031001d5",
   "metadata": {},
   "source": [
    "# information related to dataset"
   ]
  },
  {
   "cell_type": "code",
   "execution_count": 77,
   "id": "8fcbba29-8eca-41df-bb38-8cf72c4a6835",
   "metadata": {},
   "outputs": [
    {
     "name": "stdout",
     "output_type": "stream",
     "text": [
      "<class 'pandas.core.frame.DataFrame'>\n",
      "RangeIndex: 3730 entries, 0 to 3729\n",
      "Data columns (total 14 columns):\n",
      " #   Column                 Non-Null Count  Dtype  \n",
      "---  ------                 --------------  -----  \n",
      " 0   _unit_id               3730 non-null   int64  \n",
      " 1   _golden                3730 non-null   bool   \n",
      " 2   _unit_state            3730 non-null   object \n",
      " 3   _trusted_judgments     3730 non-null   int64  \n",
      " 4   _last_judgment_at      3706 non-null   object \n",
      " 5   antecedent             3730 non-null   object \n",
      " 6   antecedent:confidence  3730 non-null   float64\n",
      " 7   orig_antecedent        3730 non-null   object \n",
      " 8   antecedent_gold        24 non-null     object \n",
      " 9   option1                3730 non-null   object \n",
      " 10  option2                3730 non-null   object \n",
      " 11  option3                3730 non-null   object \n",
      " 12  option4                3730 non-null   object \n",
      " 13  option5                3730 non-null   object \n",
      "dtypes: bool(1), float64(1), int64(2), object(10)\n",
      "memory usage: 382.6+ KB\n"
     ]
    }
   ],
   "source": [
    "df.info()"
   ]
  },
  {
   "cell_type": "markdown",
   "id": "764c30c6-9bbc-47b0-81d3-235b6daa69f6",
   "metadata": {},
   "source": [
    "# Finding missing values"
   ]
  },
  {
   "cell_type": "code",
   "execution_count": 80,
   "id": "c6836e27-7c7c-465d-b5f3-ad7015bef801",
   "metadata": {},
   "outputs": [
    {
     "data": {
      "text/html": [
       "<div>\n",
       "<style scoped>\n",
       "    .dataframe tbody tr th:only-of-type {\n",
       "        vertical-align: middle;\n",
       "    }\n",
       "\n",
       "    .dataframe tbody tr th {\n",
       "        vertical-align: top;\n",
       "    }\n",
       "\n",
       "    .dataframe thead th {\n",
       "        text-align: right;\n",
       "    }\n",
       "</style>\n",
       "<table border=\"1\" class=\"dataframe\">\n",
       "  <thead>\n",
       "    <tr style=\"text-align: right;\">\n",
       "      <th></th>\n",
       "      <th>_unit_id</th>\n",
       "      <th>_golden</th>\n",
       "      <th>_unit_state</th>\n",
       "      <th>_trusted_judgments</th>\n",
       "      <th>_last_judgment_at</th>\n",
       "      <th>antecedent</th>\n",
       "      <th>antecedent:confidence</th>\n",
       "      <th>orig_antecedent</th>\n",
       "      <th>antecedent_gold</th>\n",
       "      <th>option1</th>\n",
       "      <th>option2</th>\n",
       "      <th>option3</th>\n",
       "      <th>option4</th>\n",
       "      <th>option5</th>\n",
       "    </tr>\n",
       "  </thead>\n",
       "  <tbody>\n",
       "    <tr>\n",
       "      <th>0</th>\n",
       "      <td>False</td>\n",
       "      <td>False</td>\n",
       "      <td>False</td>\n",
       "      <td>False</td>\n",
       "      <td>False</td>\n",
       "      <td>False</td>\n",
       "      <td>False</td>\n",
       "      <td>False</td>\n",
       "      <td>True</td>\n",
       "      <td>False</td>\n",
       "      <td>False</td>\n",
       "      <td>False</td>\n",
       "      <td>False</td>\n",
       "      <td>False</td>\n",
       "    </tr>\n",
       "    <tr>\n",
       "      <th>1</th>\n",
       "      <td>False</td>\n",
       "      <td>False</td>\n",
       "      <td>False</td>\n",
       "      <td>False</td>\n",
       "      <td>False</td>\n",
       "      <td>False</td>\n",
       "      <td>False</td>\n",
       "      <td>False</td>\n",
       "      <td>True</td>\n",
       "      <td>False</td>\n",
       "      <td>False</td>\n",
       "      <td>False</td>\n",
       "      <td>False</td>\n",
       "      <td>False</td>\n",
       "    </tr>\n",
       "    <tr>\n",
       "      <th>2</th>\n",
       "      <td>False</td>\n",
       "      <td>False</td>\n",
       "      <td>False</td>\n",
       "      <td>False</td>\n",
       "      <td>False</td>\n",
       "      <td>False</td>\n",
       "      <td>False</td>\n",
       "      <td>False</td>\n",
       "      <td>True</td>\n",
       "      <td>False</td>\n",
       "      <td>False</td>\n",
       "      <td>False</td>\n",
       "      <td>False</td>\n",
       "      <td>False</td>\n",
       "    </tr>\n",
       "    <tr>\n",
       "      <th>3</th>\n",
       "      <td>False</td>\n",
       "      <td>False</td>\n",
       "      <td>False</td>\n",
       "      <td>False</td>\n",
       "      <td>False</td>\n",
       "      <td>False</td>\n",
       "      <td>False</td>\n",
       "      <td>False</td>\n",
       "      <td>True</td>\n",
       "      <td>False</td>\n",
       "      <td>False</td>\n",
       "      <td>False</td>\n",
       "      <td>False</td>\n",
       "      <td>False</td>\n",
       "    </tr>\n",
       "    <tr>\n",
       "      <th>4</th>\n",
       "      <td>False</td>\n",
       "      <td>False</td>\n",
       "      <td>False</td>\n",
       "      <td>False</td>\n",
       "      <td>False</td>\n",
       "      <td>False</td>\n",
       "      <td>False</td>\n",
       "      <td>False</td>\n",
       "      <td>True</td>\n",
       "      <td>False</td>\n",
       "      <td>False</td>\n",
       "      <td>False</td>\n",
       "      <td>False</td>\n",
       "      <td>False</td>\n",
       "    </tr>\n",
       "    <tr>\n",
       "      <th>...</th>\n",
       "      <td>...</td>\n",
       "      <td>...</td>\n",
       "      <td>...</td>\n",
       "      <td>...</td>\n",
       "      <td>...</td>\n",
       "      <td>...</td>\n",
       "      <td>...</td>\n",
       "      <td>...</td>\n",
       "      <td>...</td>\n",
       "      <td>...</td>\n",
       "      <td>...</td>\n",
       "      <td>...</td>\n",
       "      <td>...</td>\n",
       "      <td>...</td>\n",
       "    </tr>\n",
       "    <tr>\n",
       "      <th>3725</th>\n",
       "      <td>False</td>\n",
       "      <td>False</td>\n",
       "      <td>False</td>\n",
       "      <td>False</td>\n",
       "      <td>True</td>\n",
       "      <td>False</td>\n",
       "      <td>False</td>\n",
       "      <td>False</td>\n",
       "      <td>False</td>\n",
       "      <td>False</td>\n",
       "      <td>False</td>\n",
       "      <td>False</td>\n",
       "      <td>False</td>\n",
       "      <td>False</td>\n",
       "    </tr>\n",
       "    <tr>\n",
       "      <th>3726</th>\n",
       "      <td>False</td>\n",
       "      <td>False</td>\n",
       "      <td>False</td>\n",
       "      <td>False</td>\n",
       "      <td>True</td>\n",
       "      <td>False</td>\n",
       "      <td>False</td>\n",
       "      <td>False</td>\n",
       "      <td>False</td>\n",
       "      <td>False</td>\n",
       "      <td>False</td>\n",
       "      <td>False</td>\n",
       "      <td>False</td>\n",
       "      <td>False</td>\n",
       "    </tr>\n",
       "    <tr>\n",
       "      <th>3727</th>\n",
       "      <td>False</td>\n",
       "      <td>False</td>\n",
       "      <td>False</td>\n",
       "      <td>False</td>\n",
       "      <td>True</td>\n",
       "      <td>False</td>\n",
       "      <td>False</td>\n",
       "      <td>False</td>\n",
       "      <td>False</td>\n",
       "      <td>False</td>\n",
       "      <td>False</td>\n",
       "      <td>False</td>\n",
       "      <td>False</td>\n",
       "      <td>False</td>\n",
       "    </tr>\n",
       "    <tr>\n",
       "      <th>3728</th>\n",
       "      <td>False</td>\n",
       "      <td>False</td>\n",
       "      <td>False</td>\n",
       "      <td>False</td>\n",
       "      <td>True</td>\n",
       "      <td>False</td>\n",
       "      <td>False</td>\n",
       "      <td>False</td>\n",
       "      <td>False</td>\n",
       "      <td>False</td>\n",
       "      <td>False</td>\n",
       "      <td>False</td>\n",
       "      <td>False</td>\n",
       "      <td>False</td>\n",
       "    </tr>\n",
       "    <tr>\n",
       "      <th>3729</th>\n",
       "      <td>False</td>\n",
       "      <td>False</td>\n",
       "      <td>False</td>\n",
       "      <td>False</td>\n",
       "      <td>True</td>\n",
       "      <td>False</td>\n",
       "      <td>False</td>\n",
       "      <td>False</td>\n",
       "      <td>False</td>\n",
       "      <td>False</td>\n",
       "      <td>False</td>\n",
       "      <td>False</td>\n",
       "      <td>False</td>\n",
       "      <td>False</td>\n",
       "    </tr>\n",
       "  </tbody>\n",
       "</table>\n",
       "<p>3730 rows × 14 columns</p>\n",
       "</div>"
      ],
      "text/plain": [
       "      _unit_id  _golden  _unit_state  _trusted_judgments  _last_judgment_at  \\\n",
       "0        False    False        False               False              False   \n",
       "1        False    False        False               False              False   \n",
       "2        False    False        False               False              False   \n",
       "3        False    False        False               False              False   \n",
       "4        False    False        False               False              False   \n",
       "...        ...      ...          ...                 ...                ...   \n",
       "3725     False    False        False               False               True   \n",
       "3726     False    False        False               False               True   \n",
       "3727     False    False        False               False               True   \n",
       "3728     False    False        False               False               True   \n",
       "3729     False    False        False               False               True   \n",
       "\n",
       "      antecedent  antecedent:confidence  orig_antecedent  antecedent_gold  \\\n",
       "0          False                  False            False             True   \n",
       "1          False                  False            False             True   \n",
       "2          False                  False            False             True   \n",
       "3          False                  False            False             True   \n",
       "4          False                  False            False             True   \n",
       "...          ...                    ...              ...              ...   \n",
       "3725       False                  False            False            False   \n",
       "3726       False                  False            False            False   \n",
       "3727       False                  False            False            False   \n",
       "3728       False                  False            False            False   \n",
       "3729       False                  False            False            False   \n",
       "\n",
       "      option1  option2  option3  option4  option5  \n",
       "0       False    False    False    False    False  \n",
       "1       False    False    False    False    False  \n",
       "2       False    False    False    False    False  \n",
       "3       False    False    False    False    False  \n",
       "4       False    False    False    False    False  \n",
       "...       ...      ...      ...      ...      ...  \n",
       "3725    False    False    False    False    False  \n",
       "3726    False    False    False    False    False  \n",
       "3727    False    False    False    False    False  \n",
       "3728    False    False    False    False    False  \n",
       "3729    False    False    False    False    False  \n",
       "\n",
       "[3730 rows x 14 columns]"
      ]
     },
     "execution_count": 80,
     "metadata": {},
     "output_type": "execute_result"
    }
   ],
   "source": [
    "df.isnull()"
   ]
  },
  {
   "cell_type": "code",
   "execution_count": 82,
   "id": "4b6ae50f-1fbb-42d1-996f-7a600a9d55a2",
   "metadata": {},
   "outputs": [
    {
     "data": {
      "text/plain": [
       "_unit_id                    0\n",
       "_golden                     0\n",
       "_unit_state                 0\n",
       "_trusted_judgments          0\n",
       "_last_judgment_at          24\n",
       "antecedent                  0\n",
       "antecedent:confidence       0\n",
       "orig_antecedent             0\n",
       "antecedent_gold          3706\n",
       "option1                     0\n",
       "option2                     0\n",
       "option3                     0\n",
       "option4                     0\n",
       "option5                     0\n",
       "dtype: int64"
      ]
     },
     "execution_count": 82,
     "metadata": {},
     "output_type": "execute_result"
    }
   ],
   "source": [
    "df.isnull().sum()"
   ]
  },
  {
   "cell_type": "code",
   "execution_count": 84,
   "id": "15ec2877-2d6f-44ff-98fe-9bd8e7d6433c",
   "metadata": {},
   "outputs": [
    {
     "data": {
      "text/plain": [
       "3730"
      ]
     },
     "execution_count": 84,
     "metadata": {},
     "output_type": "execute_result"
    }
   ],
   "source": [
    "df.isnull().sum().sum()"
   ]
  },
  {
   "cell_type": "markdown",
   "id": "4036539f-ac66-4c65-8c06-d7502eefc330",
   "metadata": {},
   "source": [
    "# Shape of data"
   ]
  },
  {
   "cell_type": "code",
   "execution_count": 87,
   "id": "8e806eab-d821-413a-8a44-92b53fd1117c",
   "metadata": {},
   "outputs": [
    {
     "data": {
      "text/plain": [
       "(3730, 14)"
      ]
     },
     "execution_count": 87,
     "metadata": {},
     "output_type": "execute_result"
    }
   ],
   "source": [
    "df.shape"
   ]
  },
  {
   "cell_type": "markdown",
   "id": "34fc5e15-965b-47c5-addd-be134ead731c",
   "metadata": {},
   "source": [
    "# Removing null values"
   ]
  },
  {
   "cell_type": "code",
   "execution_count": 90,
   "id": "26a1254c-3351-4005-9c40-9d72436028c4",
   "metadata": {},
   "outputs": [],
   "source": [
    "df.dropna(inplace=True)"
   ]
  },
  {
   "cell_type": "markdown",
   "id": "43fdb36d-6681-4d00-b082-0a568529566d",
   "metadata": {},
   "source": [
    "# Again checking null values"
   ]
  },
  {
   "cell_type": "code",
   "execution_count": 93,
   "id": "c233a8c4-a03f-4744-97d1-05f1dccf8ff8",
   "metadata": {},
   "outputs": [
    {
     "data": {
      "text/plain": [
       "_unit_id                 0\n",
       "_golden                  0\n",
       "_unit_state              0\n",
       "_trusted_judgments       0\n",
       "_last_judgment_at        0\n",
       "antecedent               0\n",
       "antecedent:confidence    0\n",
       "orig_antecedent          0\n",
       "antecedent_gold          0\n",
       "option1                  0\n",
       "option2                  0\n",
       "option3                  0\n",
       "option4                  0\n",
       "option5                  0\n",
       "dtype: int64"
      ]
     },
     "execution_count": 93,
     "metadata": {},
     "output_type": "execute_result"
    }
   ],
   "source": [
    "df.isnull().sum()"
   ]
  },
  {
   "cell_type": "code",
   "execution_count": 95,
   "id": "dfabfb59-97b5-4145-9419-60270ed1525f",
   "metadata": {},
   "outputs": [
    {
     "data": {
      "text/plain": [
       "0"
      ]
     },
     "execution_count": 95,
     "metadata": {},
     "output_type": "execute_result"
    }
   ],
   "source": [
    "df.isnull().sum().sum()"
   ]
  },
  {
   "cell_type": "markdown",
   "id": "8ff1f8e1-3f74-4254-bd46-cff3b4e31bd4",
   "metadata": {},
   "source": [
    "# exporting csv file to excel"
   ]
  },
  {
   "cell_type": "code",
   "execution_count": 98,
   "id": "966dad96-405e-42e3-9c0b-d941772f8211",
   "metadata": {},
   "outputs": [],
   "source": [
    "df.to_csv(\"Football-Scenarios-DFE-832307.csv\",index=False)"
   ]
  },
  {
   "cell_type": "markdown",
   "id": "252f4127-4628-45ab-9152-63b4ae6b8e92",
   "metadata": {},
   "source": [
    "#  Example of converting columns to correct data types"
   ]
  },
  {
   "cell_type": "code",
   "execution_count": 101,
   "id": "888d97a7-bfca-49a2-a682-480485fc1567",
   "metadata": {},
   "outputs": [],
   "source": [
    "if 'Date' in df.columns:\n",
    "    df['Date'] = pd.to_datetime(df['Date'], errors='coerce')"
   ]
  },
  {
   "cell_type": "markdown",
   "id": "b594b4a4-b886-4cf8-a100-7cd508519f7f",
   "metadata": {},
   "source": [
    "# Save cleaned data\n"
   ]
  },
  {
   "cell_type": "code",
   "execution_count": 104,
   "id": "e9034f58-c25e-4914-98f7-83585152a08a",
   "metadata": {},
   "outputs": [],
   "source": [
    "cleaned_file_path = 'Football-Scenarios-DFE-832307.csv'\n",
    "df.to_csv(cleaned_file_path, index=False)"
   ]
  },
  {
   "cell_type": "code",
   "execution_count": 106,
   "id": "88456713-104c-4773-b2b5-fec14a59ae0d",
   "metadata": {},
   "outputs": [
    {
     "name": "stdout",
     "output_type": "stream",
     "text": [
      "       _unit_id  _trusted_judgments  antecedent:confidence\n",
      "count       0.0                 0.0                    0.0\n",
      "mean        NaN                 NaN                    NaN\n",
      "std         NaN                 NaN                    NaN\n",
      "min         NaN                 NaN                    NaN\n",
      "25%         NaN                 NaN                    NaN\n",
      "50%         NaN                 NaN                    NaN\n",
      "75%         NaN                 NaN                    NaN\n",
      "max         NaN                 NaN                    NaN\n"
     ]
    }
   ],
   "source": [
    "# Summary statistics\n",
    "print(df.describe())"
   ]
  },
  {
   "cell_type": "code",
   "execution_count": 108,
   "id": "c2c35de7-16e1-4826-aeaf-23422f3cd8a1",
   "metadata": {},
   "outputs": [
    {
     "name": "stdout",
     "output_type": "stream",
     "text": [
      "                       _unit_id  _golden  _unit_state  _trusted_judgments  \\\n",
      "_unit_id                    NaN      NaN          NaN                 NaN   \n",
      "_golden                     NaN      NaN          NaN                 NaN   \n",
      "_unit_state                 NaN      NaN          NaN                 NaN   \n",
      "_trusted_judgments          NaN      NaN          NaN                 NaN   \n",
      "_last_judgment_at           NaN      NaN          NaN                 NaN   \n",
      "antecedent                  NaN      NaN          NaN                 NaN   \n",
      "antecedent:confidence       NaN      NaN          NaN                 NaN   \n",
      "orig_antecedent             NaN      NaN          NaN                 NaN   \n",
      "antecedent_gold             NaN      NaN          NaN                 NaN   \n",
      "option1                     NaN      NaN          NaN                 NaN   \n",
      "option2                     NaN      NaN          NaN                 NaN   \n",
      "option3                     NaN      NaN          NaN                 NaN   \n",
      "option4                     NaN      NaN          NaN                 NaN   \n",
      "option5                     NaN      NaN          NaN                 NaN   \n",
      "\n",
      "                       _last_judgment_at  antecedent  antecedent:confidence  \\\n",
      "_unit_id                             NaN         NaN                    NaN   \n",
      "_golden                              NaN         NaN                    NaN   \n",
      "_unit_state                          NaN         NaN                    NaN   \n",
      "_trusted_judgments                   NaN         NaN                    NaN   \n",
      "_last_judgment_at                    NaN         NaN                    NaN   \n",
      "antecedent                           NaN         NaN                    NaN   \n",
      "antecedent:confidence                NaN         NaN                    NaN   \n",
      "orig_antecedent                      NaN         NaN                    NaN   \n",
      "antecedent_gold                      NaN         NaN                    NaN   \n",
      "option1                              NaN         NaN                    NaN   \n",
      "option2                              NaN         NaN                    NaN   \n",
      "option3                              NaN         NaN                    NaN   \n",
      "option4                              NaN         NaN                    NaN   \n",
      "option5                              NaN         NaN                    NaN   \n",
      "\n",
      "                       orig_antecedent  antecedent_gold  option1  option2  \\\n",
      "_unit_id                           NaN              NaN      NaN      NaN   \n",
      "_golden                            NaN              NaN      NaN      NaN   \n",
      "_unit_state                        NaN              NaN      NaN      NaN   \n",
      "_trusted_judgments                 NaN              NaN      NaN      NaN   \n",
      "_last_judgment_at                  NaN              NaN      NaN      NaN   \n",
      "antecedent                         NaN              NaN      NaN      NaN   \n",
      "antecedent:confidence              NaN              NaN      NaN      NaN   \n",
      "orig_antecedent                    NaN              NaN      NaN      NaN   \n",
      "antecedent_gold                    NaN              NaN      NaN      NaN   \n",
      "option1                            NaN              NaN      NaN      NaN   \n",
      "option2                            NaN              NaN      NaN      NaN   \n",
      "option3                            NaN              NaN      NaN      NaN   \n",
      "option4                            NaN              NaN      NaN      NaN   \n",
      "option5                            NaN              NaN      NaN      NaN   \n",
      "\n",
      "                       option3  option4  option5  \n",
      "_unit_id                   NaN      NaN      NaN  \n",
      "_golden                    NaN      NaN      NaN  \n",
      "_unit_state                NaN      NaN      NaN  \n",
      "_trusted_judgments         NaN      NaN      NaN  \n",
      "_last_judgment_at          NaN      NaN      NaN  \n",
      "antecedent                 NaN      NaN      NaN  \n",
      "antecedent:confidence      NaN      NaN      NaN  \n",
      "orig_antecedent            NaN      NaN      NaN  \n",
      "antecedent_gold            NaN      NaN      NaN  \n",
      "option1                    NaN      NaN      NaN  \n",
      "option2                    NaN      NaN      NaN  \n",
      "option3                    NaN      NaN      NaN  \n",
      "option4                    NaN      NaN      NaN  \n",
      "option5                    NaN      NaN      NaN  \n"
     ]
    }
   ],
   "source": [
    "# Correlation between columns\n",
    "print(df.corr())\n"
   ]
  },
  {
   "cell_type": "code",
   "execution_count": 110,
   "id": "df5634ac-26cc-4480-bbc3-6da4b4d1c8de",
   "metadata": {},
   "outputs": [
    {
     "name": "stdout",
     "output_type": "stream",
     "text": [
      "                       _unit_id  _golden  _unit_state  _trusted_judgments  \\\n",
      "_unit_id                    NaN      NaN          NaN                 NaN   \n",
      "_golden                     NaN      NaN          NaN                 NaN   \n",
      "_unit_state                 NaN      NaN          NaN                 NaN   \n",
      "_trusted_judgments          NaN      NaN          NaN                 NaN   \n",
      "_last_judgment_at           NaN      NaN          NaN                 NaN   \n",
      "antecedent                  NaN      NaN          NaN                 NaN   \n",
      "antecedent:confidence       NaN      NaN          NaN                 NaN   \n",
      "orig_antecedent             NaN      NaN          NaN                 NaN   \n",
      "antecedent_gold             NaN      NaN          NaN                 NaN   \n",
      "option1                     NaN      NaN          NaN                 NaN   \n",
      "option2                     NaN      NaN          NaN                 NaN   \n",
      "option3                     NaN      NaN          NaN                 NaN   \n",
      "option4                     NaN      NaN          NaN                 NaN   \n",
      "option5                     NaN      NaN          NaN                 NaN   \n",
      "\n",
      "                       _last_judgment_at  antecedent  antecedent:confidence  \\\n",
      "_unit_id                             NaN         NaN                    NaN   \n",
      "_golden                              NaN         NaN                    NaN   \n",
      "_unit_state                          NaN         NaN                    NaN   \n",
      "_trusted_judgments                   NaN         NaN                    NaN   \n",
      "_last_judgment_at                    NaN         NaN                    NaN   \n",
      "antecedent                           NaN         NaN                    NaN   \n",
      "antecedent:confidence                NaN         NaN                    NaN   \n",
      "orig_antecedent                      NaN         NaN                    NaN   \n",
      "antecedent_gold                      NaN         NaN                    NaN   \n",
      "option1                              NaN         NaN                    NaN   \n",
      "option2                              NaN         NaN                    NaN   \n",
      "option3                              NaN         NaN                    NaN   \n",
      "option4                              NaN         NaN                    NaN   \n",
      "option5                              NaN         NaN                    NaN   \n",
      "\n",
      "                       orig_antecedent  antecedent_gold  option1  option2  \\\n",
      "_unit_id                           NaN              NaN      NaN      NaN   \n",
      "_golden                            NaN              NaN      NaN      NaN   \n",
      "_unit_state                        NaN              NaN      NaN      NaN   \n",
      "_trusted_judgments                 NaN              NaN      NaN      NaN   \n",
      "_last_judgment_at                  NaN              NaN      NaN      NaN   \n",
      "antecedent                         NaN              NaN      NaN      NaN   \n",
      "antecedent:confidence              NaN              NaN      NaN      NaN   \n",
      "orig_antecedent                    NaN              NaN      NaN      NaN   \n",
      "antecedent_gold                    NaN              NaN      NaN      NaN   \n",
      "option1                            NaN              NaN      NaN      NaN   \n",
      "option2                            NaN              NaN      NaN      NaN   \n",
      "option3                            NaN              NaN      NaN      NaN   \n",
      "option4                            NaN              NaN      NaN      NaN   \n",
      "option5                            NaN              NaN      NaN      NaN   \n",
      "\n",
      "                       option3  option4  option5  \n",
      "_unit_id                   NaN      NaN      NaN  \n",
      "_golden                    NaN      NaN      NaN  \n",
      "_unit_state                NaN      NaN      NaN  \n",
      "_trusted_judgments         NaN      NaN      NaN  \n",
      "_last_judgment_at          NaN      NaN      NaN  \n",
      "antecedent                 NaN      NaN      NaN  \n",
      "antecedent:confidence      NaN      NaN      NaN  \n",
      "orig_antecedent            NaN      NaN      NaN  \n",
      "antecedent_gold            NaN      NaN      NaN  \n",
      "option1                    NaN      NaN      NaN  \n",
      "option2                    NaN      NaN      NaN  \n",
      "option3                    NaN      NaN      NaN  \n",
      "option4                    NaN      NaN      NaN  \n",
      "option5                    NaN      NaN      NaN  \n"
     ]
    }
   ],
   "source": [
    "# Correlation between columns\n",
    "print(df.corr())\n"
   ]
  },
  {
   "cell_type": "markdown",
   "id": "2a53462a-4078-4785-8de3-d92d6be024d5",
   "metadata": {},
   "source": [
    "# Step 3: Data Exploration"
   ]
  },
  {
   "cell_type": "code",
   "execution_count": 113,
   "id": "d2a17d1a-31b3-492d-81bf-dbdbc0919421",
   "metadata": {},
   "outputs": [
    {
     "name": "stdout",
     "output_type": "stream",
     "text": [
      "Series([], Name: count, dtype: int64)\n"
     ]
    }
   ],
   "source": [
    "# Univariate Analysis: Count of each decision type\n",
    "decision_counts = df['antecedent'].value_counts()\n",
    "print(decision_counts)"
   ]
  },
  {
   "cell_type": "code",
   "execution_count": 124,
   "id": "c066ccf9-153d-4555-bc05-92d969f0a2fd",
   "metadata": {},
   "outputs": [
    {
     "name": "stdout",
     "output_type": "stream",
     "text": [
      "       _unit_id  _trusted_judgments  antecedent:confidence\n",
      "count       0.0                 0.0                    0.0\n",
      "mean        NaN                 NaN                    NaN\n",
      "std         NaN                 NaN                    NaN\n",
      "min         NaN                 NaN                    NaN\n",
      "25%         NaN                 NaN                    NaN\n",
      "50%         NaN                 NaN                    NaN\n",
      "75%         NaN                 NaN                    NaN\n",
      "max         NaN                 NaN                    NaN\n"
     ]
    }
   ],
   "source": [
    "# Descriptive statistics for numerical columns\n",
    "print(df.describe())"
   ]
  },
  {
   "cell_type": "code",
   "execution_count": 1,
   "id": "8bd7bd06-3a2c-40d0-bbc5-2e674607b100",
   "metadata": {},
   "outputs": [
    {
     "name": "stdout",
     "output_type": "stream",
     "text": [
      "Requirement already satisfied: streamlit in c:\\users\\win10\\downloads\\new folder\\lib\\site-packages (1.32.0)\n",
      "Requirement already satisfied: pandas in c:\\users\\win10\\downloads\\new folder\\lib\\site-packages (2.2.2)\n",
      "Requirement already satisfied: altair<6,>=4.0 in c:\\users\\win10\\downloads\\new folder\\lib\\site-packages (from streamlit) (5.0.1)\n",
      "Requirement already satisfied: blinker<2,>=1.0.0 in c:\\users\\win10\\downloads\\new folder\\lib\\site-packages (from streamlit) (1.6.2)\n",
      "Requirement already satisfied: cachetools<6,>=4.0 in c:\\users\\win10\\downloads\\new folder\\lib\\site-packages (from streamlit) (5.3.3)\n",
      "Requirement already satisfied: click<9,>=7.0 in c:\\users\\win10\\downloads\\new folder\\lib\\site-packages (from streamlit) (8.1.7)\n",
      "Requirement already satisfied: numpy<2,>=1.19.3 in c:\\users\\win10\\downloads\\new folder\\lib\\site-packages (from streamlit) (1.26.4)\n",
      "Requirement already satisfied: packaging<24,>=16.8 in c:\\users\\win10\\downloads\\new folder\\lib\\site-packages (from streamlit) (23.2)\n",
      "Requirement already satisfied: pillow<11,>=7.1.0 in c:\\users\\win10\\downloads\\new folder\\lib\\site-packages (from streamlit) (10.3.0)\n",
      "Requirement already satisfied: protobuf<5,>=3.20 in c:\\users\\win10\\downloads\\new folder\\lib\\site-packages (from streamlit) (3.20.3)\n",
      "Requirement already satisfied: pyarrow>=7.0 in c:\\users\\win10\\downloads\\new folder\\lib\\site-packages (from streamlit) (14.0.2)\n",
      "Requirement already satisfied: requests<3,>=2.27 in c:\\users\\win10\\downloads\\new folder\\lib\\site-packages (from streamlit) (2.32.2)\n",
      "Requirement already satisfied: rich<14,>=10.14.0 in c:\\users\\win10\\downloads\\new folder\\lib\\site-packages (from streamlit) (13.3.5)\n",
      "Requirement already satisfied: tenacity<9,>=8.1.0 in c:\\users\\win10\\downloads\\new folder\\lib\\site-packages (from streamlit) (8.2.2)\n",
      "Requirement already satisfied: toml<2,>=0.10.1 in c:\\users\\win10\\downloads\\new folder\\lib\\site-packages (from streamlit) (0.10.2)\n",
      "Requirement already satisfied: typing-extensions<5,>=4.3.0 in c:\\users\\win10\\downloads\\new folder\\lib\\site-packages (from streamlit) (4.11.0)\n",
      "Requirement already satisfied: gitpython!=3.1.19,<4,>=3.0.7 in c:\\users\\win10\\downloads\\new folder\\lib\\site-packages (from streamlit) (3.1.37)\n",
      "Requirement already satisfied: pydeck<1,>=0.8.0b4 in c:\\users\\win10\\downloads\\new folder\\lib\\site-packages (from streamlit) (0.8.0)\n",
      "Requirement already satisfied: tornado<7,>=6.0.3 in c:\\users\\win10\\downloads\\new folder\\lib\\site-packages (from streamlit) (6.4.1)\n",
      "Requirement already satisfied: watchdog>=2.1.5 in c:\\users\\win10\\downloads\\new folder\\lib\\site-packages (from streamlit) (4.0.1)\n",
      "Requirement already satisfied: python-dateutil>=2.8.2 in c:\\users\\win10\\downloads\\new folder\\lib\\site-packages (from pandas) (2.9.0.post0)\n",
      "Requirement already satisfied: pytz>=2020.1 in c:\\users\\win10\\downloads\\new folder\\lib\\site-packages (from pandas) (2024.1)\n",
      "Requirement already satisfied: tzdata>=2022.7 in c:\\users\\win10\\downloads\\new folder\\lib\\site-packages (from pandas) (2023.3)\n",
      "Requirement already satisfied: jinja2 in c:\\users\\win10\\downloads\\new folder\\lib\\site-packages (from altair<6,>=4.0->streamlit) (3.1.4)\n",
      "Requirement already satisfied: jsonschema>=3.0 in c:\\users\\win10\\downloads\\new folder\\lib\\site-packages (from altair<6,>=4.0->streamlit) (4.19.2)\n",
      "Requirement already satisfied: toolz in c:\\users\\win10\\downloads\\new folder\\lib\\site-packages (from altair<6,>=4.0->streamlit) (0.12.0)\n",
      "Requirement already satisfied: colorama in c:\\users\\win10\\downloads\\new folder\\lib\\site-packages (from click<9,>=7.0->streamlit) (0.4.6)\n",
      "Requirement already satisfied: gitdb<5,>=4.0.1 in c:\\users\\win10\\downloads\\new folder\\lib\\site-packages (from gitpython!=3.1.19,<4,>=3.0.7->streamlit) (4.0.7)\n",
      "Requirement already satisfied: six>=1.5 in c:\\users\\win10\\downloads\\new folder\\lib\\site-packages (from python-dateutil>=2.8.2->pandas) (1.16.0)\n",
      "Requirement already satisfied: charset-normalizer<4,>=2 in c:\\users\\win10\\downloads\\new folder\\lib\\site-packages (from requests<3,>=2.27->streamlit) (2.0.4)\n",
      "Requirement already satisfied: idna<4,>=2.5 in c:\\users\\win10\\downloads\\new folder\\lib\\site-packages (from requests<3,>=2.27->streamlit) (3.7)\n",
      "Requirement already satisfied: urllib3<3,>=1.21.1 in c:\\users\\win10\\downloads\\new folder\\lib\\site-packages (from requests<3,>=2.27->streamlit) (2.2.2)\n",
      "Requirement already satisfied: certifi>=2017.4.17 in c:\\users\\win10\\downloads\\new folder\\lib\\site-packages (from requests<3,>=2.27->streamlit) (2024.7.4)\n",
      "Requirement already satisfied: markdown-it-py<3.0.0,>=2.2.0 in c:\\users\\win10\\downloads\\new folder\\lib\\site-packages (from rich<14,>=10.14.0->streamlit) (2.2.0)\n",
      "Requirement already satisfied: pygments<3.0.0,>=2.13.0 in c:\\users\\win10\\downloads\\new folder\\lib\\site-packages (from rich<14,>=10.14.0->streamlit) (2.15.1)\n",
      "Requirement already satisfied: smmap<5,>=3.0.1 in c:\\users\\win10\\downloads\\new folder\\lib\\site-packages (from gitdb<5,>=4.0.1->gitpython!=3.1.19,<4,>=3.0.7->streamlit) (4.0.0)\n",
      "Requirement already satisfied: MarkupSafe>=2.0 in c:\\users\\win10\\downloads\\new folder\\lib\\site-packages (from jinja2->altair<6,>=4.0->streamlit) (2.1.3)\n",
      "Requirement already satisfied: attrs>=22.2.0 in c:\\users\\win10\\downloads\\new folder\\lib\\site-packages (from jsonschema>=3.0->altair<6,>=4.0->streamlit) (23.1.0)\n",
      "Requirement already satisfied: jsonschema-specifications>=2023.03.6 in c:\\users\\win10\\downloads\\new folder\\lib\\site-packages (from jsonschema>=3.0->altair<6,>=4.0->streamlit) (2023.7.1)\n",
      "Requirement already satisfied: referencing>=0.28.4 in c:\\users\\win10\\downloads\\new folder\\lib\\site-packages (from jsonschema>=3.0->altair<6,>=4.0->streamlit) (0.30.2)\n",
      "Requirement already satisfied: rpds-py>=0.7.1 in c:\\users\\win10\\downloads\\new folder\\lib\\site-packages (from jsonschema>=3.0->altair<6,>=4.0->streamlit) (0.10.6)\n",
      "Requirement already satisfied: mdurl~=0.1 in c:\\users\\win10\\downloads\\new folder\\lib\\site-packages (from markdown-it-py<3.0.0,>=2.2.0->rich<14,>=10.14.0->streamlit) (0.1.0)\n",
      "Note: you may need to restart the kernel to use updated packages.\n"
     ]
    }
   ],
   "source": [
    "pip install streamlit pandas"
   ]
  },
  {
   "cell_type": "code",
   "execution_count": 5,
   "id": "27b47783-3cb5-4f7d-9b1b-162182d27357",
   "metadata": {},
   "outputs": [],
   "source": [
    "import streamlit as st\n",
    "import pandas as pd\n"
   ]
  },
  {
   "cell_type": "code",
   "execution_count": 6,
   "id": "c2662956-d116-43b9-959c-398f0634c0cb",
   "metadata": {},
   "outputs": [],
   "source": [
    "# Load the football scenario data\n",
    "@st.cache\n",
    "def load_data():\n",
    "    # Replace 'football_scenarios.csv' with the actual path to your dataset\n",
    "    df = pd.read_csv('Football-Scenarios-DFE-832307.csv')\n",
    "    return df"
   ]
  },
  {
   "cell_type": "code",
   "execution_count": null,
   "id": "748dd191-8773-4ce8-8d58-2d56342e04cb",
   "metadata": {},
   "outputs": [],
   "source": []
  }
 ],
 "metadata": {
  "kernelspec": {
   "display_name": "Python 3 (ipykernel)",
   "language": "python",
   "name": "python3"
  },
  "language_info": {
   "codemirror_mode": {
    "name": "ipython",
    "version": 3
   },
   "file_extension": ".py",
   "mimetype": "text/x-python",
   "name": "python",
   "nbconvert_exporter": "python",
   "pygments_lexer": "ipython3",
   "version": "3.12.4"
  }
 },
 "nbformat": 4,
 "nbformat_minor": 5
}
